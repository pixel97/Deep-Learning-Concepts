{
 "cells": [
  {
   "cell_type": "markdown",
   "metadata": {
    "papermill": {
     "duration": 0.018591,
     "end_time": "2020-12-15T18:55:07.586300",
     "exception": false,
     "start_time": "2020-12-15T18:55:07.567709",
     "status": "completed"
    },
    "tags": []
   },
   "source": [
    "In this Notebook , I will try to cover all basic activation functions used in neural networks. As we all know NN without activation functions is just a linear regression model."
   ]
  },
  {
   "cell_type": "markdown",
   "metadata": {
    "papermill": {
     "duration": 0.017122,
     "end_time": "2020-12-15T18:55:07.621152",
     "exception": false,
     "start_time": "2020-12-15T18:55:07.604030",
     "status": "completed"
    },
    "tags": []
   },
   "source": [
    "**The Functions that I have covered are following**\n",
    "\n",
    "* Binary Step\n",
    "* Linear\n",
    "* Sigmoid\n",
    "* Tanh\n",
    "* ReLU\n",
    "* Leaky ReLU\n",
    "* Parameterised ReLU\n",
    "* Exponential Linear Unit\n",
    "* Swish\n",
    "* Softmax\n"
   ]
  },
  {
   "cell_type": "code",
   "execution_count": 1,
   "metadata": {
    "_cell_guid": "79c7e3d0-c299-4dcb-8224-4455121ee9b0",
    "_uuid": "d629ff2d2480ee46fbb7e2d37f6b5fab8052498a",
    "execution": {
     "iopub.execute_input": "2020-12-15T18:55:07.663221Z",
     "iopub.status.busy": "2020-12-15T18:55:07.662486Z",
     "iopub.status.idle": "2020-12-15T18:55:07.666143Z",
     "shell.execute_reply": "2020-12-15T18:55:07.665352Z"
    },
    "papermill": {
     "duration": 0.027494,
     "end_time": "2020-12-15T18:55:07.666266",
     "exception": false,
     "start_time": "2020-12-15T18:55:07.638772",
     "status": "completed"
    },
    "tags": []
   },
   "outputs": [],
   "source": [
    "# 1. Binary step\n",
    "# If the input to activation function is greater than a threshold then the neuron is activated else not.\n",
    "# Useful only in creating binary classifier.\n",
    "\n",
    "def binary_func(x):\n",
    "    \n",
    "    if x < 0:\n",
    "        return 0\n",
    "    else:\n",
    "        return 1\n",
    "\n"
   ]
  },
  {
   "cell_type": "code",
   "execution_count": 2,
   "metadata": {
    "execution": {
     "iopub.execute_input": "2020-12-15T18:55:07.709198Z",
     "iopub.status.busy": "2020-12-15T18:55:07.708429Z",
     "iopub.status.idle": "2020-12-15T18:55:07.712272Z",
     "shell.execute_reply": "2020-12-15T18:55:07.712788Z"
    },
    "papermill": {
     "duration": 0.028683,
     "end_time": "2020-12-15T18:55:07.712948",
     "exception": false,
     "start_time": "2020-12-15T18:55:07.684265",
     "status": "completed"
    },
    "tags": []
   },
   "outputs": [
    {
     "data": {
      "text/plain": [
       "0"
      ]
     },
     "execution_count": 2,
     "metadata": {},
     "output_type": "execute_result"
    }
   ],
   "source": [
    "binary_func(-2)"
   ]
  },
  {
   "cell_type": "code",
   "execution_count": 3,
   "metadata": {
    "execution": {
     "iopub.execute_input": "2020-12-15T18:55:07.755056Z",
     "iopub.status.busy": "2020-12-15T18:55:07.754358Z",
     "iopub.status.idle": "2020-12-15T18:55:07.758976Z",
     "shell.execute_reply": "2020-12-15T18:55:07.758179Z"
    },
    "papermill": {
     "duration": 0.02737,
     "end_time": "2020-12-15T18:55:07.759100",
     "exception": false,
     "start_time": "2020-12-15T18:55:07.731730",
     "status": "completed"
    },
    "tags": []
   },
   "outputs": [
    {
     "data": {
      "text/plain": [
       "1"
      ]
     },
     "execution_count": 3,
     "metadata": {},
     "output_type": "execute_result"
    }
   ],
   "source": [
    "binary_func(5)"
   ]
  },
  {
   "cell_type": "code",
   "execution_count": 4,
   "metadata": {
    "execution": {
     "iopub.execute_input": "2020-12-15T18:55:07.801960Z",
     "iopub.status.busy": "2020-12-15T18:55:07.801048Z",
     "iopub.status.idle": "2020-12-15T18:55:07.803782Z",
     "shell.execute_reply": "2020-12-15T18:55:07.803284Z"
    },
    "papermill": {
     "duration": 0.025999,
     "end_time": "2020-12-15T18:55:07.803915",
     "exception": false,
     "start_time": "2020-12-15T18:55:07.777916",
     "status": "completed"
    },
    "tags": []
   },
   "outputs": [],
   "source": [
    "# 2. Linear function\n",
    "# It can be used as an alternative to Binary step, also the gradient of Linear function is not zero.\n",
    "\n",
    "def Linear_func(k,x):\n",
    "    \n",
    "    return k*x "
   ]
  },
  {
   "cell_type": "code",
   "execution_count": 5,
   "metadata": {
    "execution": {
     "iopub.execute_input": "2020-12-15T18:55:07.846840Z",
     "iopub.status.busy": "2020-12-15T18:55:07.846139Z",
     "iopub.status.idle": "2020-12-15T18:55:07.849308Z",
     "shell.execute_reply": "2020-12-15T18:55:07.849908Z"
    },
    "papermill": {
     "duration": 0.02721,
     "end_time": "2020-12-15T18:55:07.850054",
     "exception": false,
     "start_time": "2020-12-15T18:55:07.822844",
     "status": "completed"
    },
    "tags": []
   },
   "outputs": [
    {
     "data": {
      "text/plain": [
       "6"
      ]
     },
     "execution_count": 5,
     "metadata": {},
     "output_type": "execute_result"
    }
   ],
   "source": [
    "Linear_func(2,3)"
   ]
  },
  {
   "cell_type": "code",
   "execution_count": 6,
   "metadata": {
    "execution": {
     "iopub.execute_input": "2020-12-15T18:55:07.894634Z",
     "iopub.status.busy": "2020-12-15T18:55:07.893975Z",
     "iopub.status.idle": "2020-12-15T18:55:07.897611Z",
     "shell.execute_reply": "2020-12-15T18:55:07.896941Z"
    },
    "papermill": {
     "duration": 0.028461,
     "end_time": "2020-12-15T18:55:07.897726",
     "exception": false,
     "start_time": "2020-12-15T18:55:07.869265",
     "status": "completed"
    },
    "tags": []
   },
   "outputs": [],
   "source": [
    "# 3. Sigmoid function\n",
    "# It transforms any value between the range 0 and 1 and is given as\n",
    "# f(x) = 1/(1 + e^-x)\n",
    "\n",
    "import numpy as np\n",
    "\n",
    "def Sigmoid_func(x):\n",
    "    \n",
    "    return 1/(1 + np.exp(-x))\n"
   ]
  },
  {
   "cell_type": "code",
   "execution_count": 7,
   "metadata": {
    "execution": {
     "iopub.execute_input": "2020-12-15T18:55:07.943284Z",
     "iopub.status.busy": "2020-12-15T18:55:07.942360Z",
     "iopub.status.idle": "2020-12-15T18:55:07.946895Z",
     "shell.execute_reply": "2020-12-15T18:55:07.946248Z"
    },
    "papermill": {
     "duration": 0.029619,
     "end_time": "2020-12-15T18:55:07.947008",
     "exception": false,
     "start_time": "2020-12-15T18:55:07.917389",
     "status": "completed"
    },
    "tags": []
   },
   "outputs": [
    {
     "data": {
      "text/plain": [
       "0.9998766054240137"
      ]
     },
     "execution_count": 7,
     "metadata": {},
     "output_type": "execute_result"
    }
   ],
   "source": [
    "Sigmoid_func(9)"
   ]
  },
  {
   "cell_type": "code",
   "execution_count": 8,
   "metadata": {
    "execution": {
     "iopub.execute_input": "2020-12-15T18:55:07.992694Z",
     "iopub.status.busy": "2020-12-15T18:55:07.992025Z",
     "iopub.status.idle": "2020-12-15T18:55:07.995350Z",
     "shell.execute_reply": "2020-12-15T18:55:07.994674Z"
    },
    "papermill": {
     "duration": 0.028621,
     "end_time": "2020-12-15T18:55:07.995472",
     "exception": false,
     "start_time": "2020-12-15T18:55:07.966851",
     "status": "completed"
    },
    "tags": []
   },
   "outputs": [],
   "source": [
    "# 4. Tanh function\n",
    "# It is similar to tanh but is not symmetrical around origin\n",
    "# It transforms any value between the range -1 and 1 and is given as\n",
    "# tanh(x)=2sigmoid(2x)-1\n",
    "\n",
    "def Tanh_func(x):\n",
    "    \n",
    "    return 2*Sigmoid_func(2*x)-1\n",
    "\n"
   ]
  },
  {
   "cell_type": "code",
   "execution_count": 9,
   "metadata": {
    "execution": {
     "iopub.execute_input": "2020-12-15T18:55:08.041216Z",
     "iopub.status.busy": "2020-12-15T18:55:08.040097Z",
     "iopub.status.idle": "2020-12-15T18:55:08.044250Z",
     "shell.execute_reply": "2020-12-15T18:55:08.043562Z"
    },
    "papermill": {
     "duration": 0.028964,
     "end_time": "2020-12-15T18:55:08.044359",
     "exception": false,
     "start_time": "2020-12-15T18:55:08.015395",
     "status": "completed"
    },
    "tags": []
   },
   "outputs": [
    {
     "data": {
      "text/plain": [
       "0.4621171572600098"
      ]
     },
     "execution_count": 9,
     "metadata": {},
     "output_type": "execute_result"
    }
   ],
   "source": [
    "Tanh_func(0.5)"
   ]
  },
  {
   "cell_type": "code",
   "execution_count": 10,
   "metadata": {
    "execution": {
     "iopub.execute_input": "2020-12-15T18:55:08.090895Z",
     "iopub.status.busy": "2020-12-15T18:55:08.090139Z",
     "iopub.status.idle": "2020-12-15T18:55:08.092181Z",
     "shell.execute_reply": "2020-12-15T18:55:08.092710Z"
    },
    "papermill": {
     "duration": 0.028156,
     "end_time": "2020-12-15T18:55:08.092874",
     "exception": false,
     "start_time": "2020-12-15T18:55:08.064718",
     "status": "completed"
    },
    "tags": []
   },
   "outputs": [],
   "source": [
    "# 5. ReLU(Rectified Linear Unit) function\n",
    "# It takes the maximum between 0 and input value, that is the neurons will be deactivated when the input is negative.\n",
    "\n",
    "def Relu_func(x):\n",
    "    \n",
    "    return max(0,x)\n"
   ]
  },
  {
   "cell_type": "code",
   "execution_count": 11,
   "metadata": {
    "execution": {
     "iopub.execute_input": "2020-12-15T18:55:08.138575Z",
     "iopub.status.busy": "2020-12-15T18:55:08.137829Z",
     "iopub.status.idle": "2020-12-15T18:55:08.144724Z",
     "shell.execute_reply": "2020-12-15T18:55:08.144135Z"
    },
    "papermill": {
     "duration": 0.030312,
     "end_time": "2020-12-15T18:55:08.144864",
     "exception": false,
     "start_time": "2020-12-15T18:55:08.114552",
     "status": "completed"
    },
    "tags": []
   },
   "outputs": [
    {
     "data": {
      "text/plain": [
       "4"
      ]
     },
     "execution_count": 11,
     "metadata": {},
     "output_type": "execute_result"
    }
   ],
   "source": [
    "Relu_func(4)"
   ]
  },
  {
   "cell_type": "code",
   "execution_count": 12,
   "metadata": {
    "execution": {
     "iopub.execute_input": "2020-12-15T18:55:08.190514Z",
     "iopub.status.busy": "2020-12-15T18:55:08.189911Z",
     "iopub.status.idle": "2020-12-15T18:55:08.194568Z",
     "shell.execute_reply": "2020-12-15T18:55:08.195121Z"
    },
    "papermill": {
     "duration": 0.028907,
     "end_time": "2020-12-15T18:55:08.195255",
     "exception": false,
     "start_time": "2020-12-15T18:55:08.166348",
     "status": "completed"
    },
    "tags": []
   },
   "outputs": [
    {
     "data": {
      "text/plain": [
       "0"
      ]
     },
     "execution_count": 12,
     "metadata": {},
     "output_type": "execute_result"
    }
   ],
   "source": [
    "Relu_func(-1)"
   ]
  },
  {
   "cell_type": "code",
   "execution_count": 13,
   "metadata": {
    "execution": {
     "iopub.execute_input": "2020-12-15T18:55:08.242000Z",
     "iopub.status.busy": "2020-12-15T18:55:08.241240Z",
     "iopub.status.idle": "2020-12-15T18:55:08.247274Z",
     "shell.execute_reply": "2020-12-15T18:55:08.246720Z"
    },
    "papermill": {
     "duration": 0.030184,
     "end_time": "2020-12-15T18:55:08.247405",
     "exception": false,
     "start_time": "2020-12-15T18:55:08.217221",
     "status": "completed"
    },
    "tags": []
   },
   "outputs": [],
   "source": [
    "# 6. Leaky ReLU\n",
    "# It is similar to the ReLU function despite the fact that it handles negative values too.\n",
    "\n",
    "def Leaky_ReLU_func(x):\n",
    "    \n",
    "    if x < 0:\n",
    "        return 0.01*x\n",
    "    else:\n",
    "        return x\n"
   ]
  },
  {
   "cell_type": "code",
   "execution_count": 14,
   "metadata": {
    "execution": {
     "iopub.execute_input": "2020-12-15T18:55:08.296072Z",
     "iopub.status.busy": "2020-12-15T18:55:08.295289Z",
     "iopub.status.idle": "2020-12-15T18:55:08.298180Z",
     "shell.execute_reply": "2020-12-15T18:55:08.298673Z"
    },
    "papermill": {
     "duration": 0.029819,
     "end_time": "2020-12-15T18:55:08.298821",
     "exception": false,
     "start_time": "2020-12-15T18:55:08.269002",
     "status": "completed"
    },
    "tags": []
   },
   "outputs": [
    {
     "data": {
      "text/plain": [
       "3"
      ]
     },
     "execution_count": 14,
     "metadata": {},
     "output_type": "execute_result"
    }
   ],
   "source": [
    "Leaky_ReLU_func(3)"
   ]
  },
  {
   "cell_type": "code",
   "execution_count": 15,
   "metadata": {
    "execution": {
     "iopub.execute_input": "2020-12-15T18:55:08.348282Z",
     "iopub.status.busy": "2020-12-15T18:55:08.347628Z",
     "iopub.status.idle": "2020-12-15T18:55:08.350570Z",
     "shell.execute_reply": "2020-12-15T18:55:08.351160Z"
    },
    "papermill": {
     "duration": 0.030311,
     "end_time": "2020-12-15T18:55:08.351296",
     "exception": false,
     "start_time": "2020-12-15T18:55:08.320985",
     "status": "completed"
    },
    "tags": []
   },
   "outputs": [
    {
     "data": {
      "text/plain": [
       "-0.03"
      ]
     },
     "execution_count": 15,
     "metadata": {},
     "output_type": "execute_result"
    }
   ],
   "source": [
    "Leaky_ReLU_func(-3)"
   ]
  },
  {
   "cell_type": "code",
   "execution_count": 16,
   "metadata": {
    "execution": {
     "iopub.execute_input": "2020-12-15T18:55:08.400009Z",
     "iopub.status.busy": "2020-12-15T18:55:08.399269Z",
     "iopub.status.idle": "2020-12-15T18:55:08.403899Z",
     "shell.execute_reply": "2020-12-15T18:55:08.404448Z"
    },
    "papermill": {
     "duration": 0.030398,
     "end_time": "2020-12-15T18:55:08.404595",
     "exception": false,
     "start_time": "2020-12-15T18:55:08.374197",
     "status": "completed"
    },
    "tags": []
   },
   "outputs": [],
   "source": [
    "# 7. Parameterised ReLU\n",
    "# It takes care of the negative values by passing a parameter and handles the gradient from becoming zero.\n",
    "# The value of parameter is also trainable hence it is more optimum.\n",
    "\n",
    "def parameterised_ReLU(a,x):\n",
    "    \n",
    "    if x<0:\n",
    "        return a*x\n",
    "    else:\n",
    "        return x"
   ]
  },
  {
   "cell_type": "code",
   "execution_count": 17,
   "metadata": {
    "execution": {
     "iopub.execute_input": "2020-12-15T18:55:08.453661Z",
     "iopub.status.busy": "2020-12-15T18:55:08.453035Z",
     "iopub.status.idle": "2020-12-15T18:55:08.458037Z",
     "shell.execute_reply": "2020-12-15T18:55:08.458543Z"
    },
    "papermill": {
     "duration": 0.031118,
     "end_time": "2020-12-15T18:55:08.458681",
     "exception": false,
     "start_time": "2020-12-15T18:55:08.427563",
     "status": "completed"
    },
    "tags": []
   },
   "outputs": [
    {
     "data": {
      "text/plain": [
       "-6"
      ]
     },
     "execution_count": 17,
     "metadata": {},
     "output_type": "execute_result"
    }
   ],
   "source": [
    "parameterised_ReLU(3,-2)"
   ]
  },
  {
   "cell_type": "code",
   "execution_count": 18,
   "metadata": {
    "execution": {
     "iopub.execute_input": "2020-12-15T18:55:08.512740Z",
     "iopub.status.busy": "2020-12-15T18:55:08.512083Z",
     "iopub.status.idle": "2020-12-15T18:55:08.515182Z",
     "shell.execute_reply": "2020-12-15T18:55:08.514638Z"
    },
    "papermill": {
     "duration": 0.033258,
     "end_time": "2020-12-15T18:55:08.515313",
     "exception": false,
     "start_time": "2020-12-15T18:55:08.482055",
     "status": "completed"
    },
    "tags": []
   },
   "outputs": [],
   "source": [
    "# 8. Exponential Linear Unit\n",
    "# It uses a log curve for defining the negative values\n",
    "\n",
    "import numpy as np\n",
    "\n",
    "def elu_function(x, a):\n",
    "    if x<0:\n",
    "        return a*(np.exp(x)-1)\n",
    "    else:\n",
    "        return x"
   ]
  },
  {
   "cell_type": "code",
   "execution_count": 19,
   "metadata": {
    "execution": {
     "iopub.execute_input": "2020-12-15T18:55:08.568288Z",
     "iopub.status.busy": "2020-12-15T18:55:08.567620Z",
     "iopub.status.idle": "2020-12-15T18:55:08.571943Z",
     "shell.execute_reply": "2020-12-15T18:55:08.571412Z"
    },
    "papermill": {
     "duration": 0.033282,
     "end_time": "2020-12-15T18:55:08.572065",
     "exception": false,
     "start_time": "2020-12-15T18:55:08.538783",
     "status": "completed"
    },
    "tags": []
   },
   "outputs": [
    {
     "data": {
      "text/plain": [
       "5"
      ]
     },
     "execution_count": 19,
     "metadata": {},
     "output_type": "execute_result"
    }
   ],
   "source": [
    "elu_function(5, 0.1)"
   ]
  },
  {
   "cell_type": "code",
   "execution_count": 20,
   "metadata": {
    "execution": {
     "iopub.execute_input": "2020-12-15T18:55:08.625865Z",
     "iopub.status.busy": "2020-12-15T18:55:08.625055Z",
     "iopub.status.idle": "2020-12-15T18:55:08.628313Z",
     "shell.execute_reply": "2020-12-15T18:55:08.628960Z"
    },
    "papermill": {
     "duration": 0.032764,
     "end_time": "2020-12-15T18:55:08.629102",
     "exception": false,
     "start_time": "2020-12-15T18:55:08.596338",
     "status": "completed"
    },
    "tags": []
   },
   "outputs": [
    {
     "data": {
      "text/plain": [
       "-0.09932620530009145"
      ]
     },
     "execution_count": 20,
     "metadata": {},
     "output_type": "execute_result"
    }
   ],
   "source": [
    "elu_function(-5, 0.1)"
   ]
  },
  {
   "cell_type": "code",
   "execution_count": 21,
   "metadata": {
    "execution": {
     "iopub.execute_input": "2020-12-15T18:55:08.682614Z",
     "iopub.status.busy": "2020-12-15T18:55:08.681953Z",
     "iopub.status.idle": "2020-12-15T18:55:08.686176Z",
     "shell.execute_reply": "2020-12-15T18:55:08.686688Z"
    },
    "papermill": {
     "duration": 0.033278,
     "end_time": "2020-12-15T18:55:08.686873",
     "exception": false,
     "start_time": "2020-12-15T18:55:08.653595",
     "status": "completed"
    },
    "tags": []
   },
   "outputs": [],
   "source": [
    "# 9. Swish function\n",
    "# It is as efficient as ReLU.\n",
    "# The value ranges from negative infinity to infinity\n",
    "\n",
    "def swish_function(x):\n",
    "    return x/(1-np.exp(-x))\n",
    "\n"
   ]
  },
  {
   "cell_type": "code",
   "execution_count": 22,
   "metadata": {
    "execution": {
     "iopub.execute_input": "2020-12-15T18:55:08.740046Z",
     "iopub.status.busy": "2020-12-15T18:55:08.739323Z",
     "iopub.status.idle": "2020-12-15T18:55:08.744252Z",
     "shell.execute_reply": "2020-12-15T18:55:08.744750Z"
    },
    "papermill": {
     "duration": 0.033208,
     "end_time": "2020-12-15T18:55:08.744931",
     "exception": false,
     "start_time": "2020-12-15T18:55:08.711723",
     "status": "completed"
    },
    "tags": []
   },
   "outputs": [
    {
     "data": {
      "text/plain": [
       "4.074629441455096"
      ]
     },
     "execution_count": 22,
     "metadata": {},
     "output_type": "execute_result"
    }
   ],
   "source": [
    "swish_function(4)"
   ]
  },
  {
   "cell_type": "code",
   "execution_count": 23,
   "metadata": {
    "execution": {
     "iopub.execute_input": "2020-12-15T18:55:08.801590Z",
     "iopub.status.busy": "2020-12-15T18:55:08.800613Z",
     "iopub.status.idle": "2020-12-15T18:55:08.804416Z",
     "shell.execute_reply": "2020-12-15T18:55:08.804936Z"
    },
    "papermill": {
     "duration": 0.035128,
     "end_time": "2020-12-15T18:55:08.805089",
     "exception": false,
     "start_time": "2020-12-15T18:55:08.769961",
     "status": "completed"
    },
    "tags": []
   },
   "outputs": [
    {
     "data": {
      "text/plain": [
       "0.10898180740229926"
      ]
     },
     "execution_count": 23,
     "metadata": {},
     "output_type": "execute_result"
    }
   ],
   "source": [
    "swish_function(-3.5)"
   ]
  },
  {
   "cell_type": "code",
   "execution_count": 24,
   "metadata": {
    "execution": {
     "iopub.execute_input": "2020-12-15T18:55:08.861069Z",
     "iopub.status.busy": "2020-12-15T18:55:08.860030Z",
     "iopub.status.idle": "2020-12-15T18:55:08.866253Z",
     "shell.execute_reply": "2020-12-15T18:55:08.865561Z"
    },
    "papermill": {
     "duration": 0.035347,
     "end_time": "2020-12-15T18:55:08.866368",
     "exception": false,
     "start_time": "2020-12-15T18:55:08.831021",
     "status": "completed"
    },
    "tags": []
   },
   "outputs": [],
   "source": [
    "# 9. Softmax function\n",
    "# It is made up of multiple sigmoid functions and returns the value between 0 and 1.\n",
    "# It is usually used to denote the probability of data point belonging to each class.\n",
    "\n",
    "def softmax_function(x):\n",
    "    z = np.exp(x)\n",
    "    res = z/z.sum()\n",
    "    return res"
   ]
  },
  {
   "cell_type": "code",
   "execution_count": 25,
   "metadata": {
    "execution": {
     "iopub.execute_input": "2020-12-15T18:55:08.924719Z",
     "iopub.status.busy": "2020-12-15T18:55:08.923990Z",
     "iopub.status.idle": "2020-12-15T18:55:08.926783Z",
     "shell.execute_reply": "2020-12-15T18:55:08.927323Z"
    },
    "papermill": {
     "duration": 0.035148,
     "end_time": "2020-12-15T18:55:08.927465",
     "exception": false,
     "start_time": "2020-12-15T18:55:08.892317",
     "status": "completed"
    },
    "tags": []
   },
   "outputs": [
    {
     "data": {
      "text/plain": [
       "array([0.09757865, 0.02177274, 0.88064861])"
      ]
     },
     "execution_count": 25,
     "metadata": {},
     "output_type": "execute_result"
    }
   ],
   "source": [
    "softmax_function([1.8,0.3,4])"
   ]
  },
  {
   "cell_type": "markdown",
   "metadata": {
    "papermill": {
     "duration": 0.028912,
     "end_time": "2020-12-15T18:55:08.984018",
     "exception": false,
     "start_time": "2020-12-15T18:55:08.955106",
     "status": "completed"
    },
    "tags": []
   },
   "source": [
    "Conclusions:\n",
    "* ReLU is a good choice to use in hidden layers.\n",
    "* In the case of dead neurons, Leaky ReLU is the optimal choice.\n",
    "* Sigmoid functions work better in case of classifiers."
   ]
  }
 ],
 "metadata": {
  "kernelspec": {
   "display_name": "Python 3",
   "language": "python",
   "name": "python3"
  },
  "language_info": {
   "codemirror_mode": {
    "name": "ipython",
    "version": 3
   },
   "file_extension": ".py",
   "mimetype": "text/x-python",
   "name": "python",
   "nbconvert_exporter": "python",
   "pygments_lexer": "ipython3",
   "version": "3.7.6"
  },
  "papermill": {
   "duration": 6.615269,
   "end_time": "2020-12-15T18:55:09.119055",
   "environment_variables": {},
   "exception": null,
   "input_path": "__notebook__.ipynb",
   "output_path": "__notebook__.ipynb",
   "parameters": {},
   "start_time": "2020-12-15T18:55:02.503786",
   "version": "2.1.0"
  }
 },
 "nbformat": 4,
 "nbformat_minor": 4
}
