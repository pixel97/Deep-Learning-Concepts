{
 "cells": [
  {
   "cell_type": "code",
   "execution_count": 1,
   "metadata": {},
   "outputs": [],
   "source": [
    "import numpy as np\n",
    "import pandas as pd\n",
    "import matplotlib.pyplot as plt\n"
   ]
  },
  {
   "cell_type": "code",
   "execution_count": 2,
   "metadata": {},
   "outputs": [],
   "source": [
    "import tensorflow as tf\n",
    "from tensorflow import keras"
   ]
  },
  {
   "cell_type": "code",
   "execution_count": 3,
   "metadata": {},
   "outputs": [
    {
     "data": {
      "text/html": [
       "<div>\n",
       "<style scoped>\n",
       "    .dataframe tbody tr th:only-of-type {\n",
       "        vertical-align: middle;\n",
       "    }\n",
       "\n",
       "    .dataframe tbody tr th {\n",
       "        vertical-align: top;\n",
       "    }\n",
       "\n",
       "    .dataframe thead th {\n",
       "        text-align: right;\n",
       "    }\n",
       "</style>\n",
       "<table border=\"1\" class=\"dataframe\">\n",
       "  <thead>\n",
       "    <tr style=\"text-align: right;\">\n",
       "      <th></th>\n",
       "      <th>0</th>\n",
       "      <th>1</th>\n",
       "      <th>2</th>\n",
       "      <th>3</th>\n",
       "      <th>4</th>\n",
       "      <th>5</th>\n",
       "      <th>6</th>\n",
       "      <th>7</th>\n",
       "      <th>8</th>\n",
       "      <th>9</th>\n",
       "      <th>...</th>\n",
       "      <th>51</th>\n",
       "      <th>52</th>\n",
       "      <th>53</th>\n",
       "      <th>54</th>\n",
       "      <th>55</th>\n",
       "      <th>56</th>\n",
       "      <th>57</th>\n",
       "      <th>58</th>\n",
       "      <th>59</th>\n",
       "      <th>60</th>\n",
       "    </tr>\n",
       "  </thead>\n",
       "  <tbody>\n",
       "    <tr>\n",
       "      <th>0</th>\n",
       "      <td>0.0200</td>\n",
       "      <td>0.0371</td>\n",
       "      <td>0.0428</td>\n",
       "      <td>0.0207</td>\n",
       "      <td>0.0954</td>\n",
       "      <td>0.0986</td>\n",
       "      <td>0.1539</td>\n",
       "      <td>0.1601</td>\n",
       "      <td>0.3109</td>\n",
       "      <td>0.2111</td>\n",
       "      <td>...</td>\n",
       "      <td>0.0027</td>\n",
       "      <td>0.0065</td>\n",
       "      <td>0.0159</td>\n",
       "      <td>0.0072</td>\n",
       "      <td>0.0167</td>\n",
       "      <td>0.0180</td>\n",
       "      <td>0.0084</td>\n",
       "      <td>0.0090</td>\n",
       "      <td>0.0032</td>\n",
       "      <td>R</td>\n",
       "    </tr>\n",
       "    <tr>\n",
       "      <th>1</th>\n",
       "      <td>0.0453</td>\n",
       "      <td>0.0523</td>\n",
       "      <td>0.0843</td>\n",
       "      <td>0.0689</td>\n",
       "      <td>0.1183</td>\n",
       "      <td>0.2583</td>\n",
       "      <td>0.2156</td>\n",
       "      <td>0.3481</td>\n",
       "      <td>0.3337</td>\n",
       "      <td>0.2872</td>\n",
       "      <td>...</td>\n",
       "      <td>0.0084</td>\n",
       "      <td>0.0089</td>\n",
       "      <td>0.0048</td>\n",
       "      <td>0.0094</td>\n",
       "      <td>0.0191</td>\n",
       "      <td>0.0140</td>\n",
       "      <td>0.0049</td>\n",
       "      <td>0.0052</td>\n",
       "      <td>0.0044</td>\n",
       "      <td>R</td>\n",
       "    </tr>\n",
       "    <tr>\n",
       "      <th>2</th>\n",
       "      <td>0.0262</td>\n",
       "      <td>0.0582</td>\n",
       "      <td>0.1099</td>\n",
       "      <td>0.1083</td>\n",
       "      <td>0.0974</td>\n",
       "      <td>0.2280</td>\n",
       "      <td>0.2431</td>\n",
       "      <td>0.3771</td>\n",
       "      <td>0.5598</td>\n",
       "      <td>0.6194</td>\n",
       "      <td>...</td>\n",
       "      <td>0.0232</td>\n",
       "      <td>0.0166</td>\n",
       "      <td>0.0095</td>\n",
       "      <td>0.0180</td>\n",
       "      <td>0.0244</td>\n",
       "      <td>0.0316</td>\n",
       "      <td>0.0164</td>\n",
       "      <td>0.0095</td>\n",
       "      <td>0.0078</td>\n",
       "      <td>R</td>\n",
       "    </tr>\n",
       "    <tr>\n",
       "      <th>3</th>\n",
       "      <td>0.0100</td>\n",
       "      <td>0.0171</td>\n",
       "      <td>0.0623</td>\n",
       "      <td>0.0205</td>\n",
       "      <td>0.0205</td>\n",
       "      <td>0.0368</td>\n",
       "      <td>0.1098</td>\n",
       "      <td>0.1276</td>\n",
       "      <td>0.0598</td>\n",
       "      <td>0.1264</td>\n",
       "      <td>...</td>\n",
       "      <td>0.0121</td>\n",
       "      <td>0.0036</td>\n",
       "      <td>0.0150</td>\n",
       "      <td>0.0085</td>\n",
       "      <td>0.0073</td>\n",
       "      <td>0.0050</td>\n",
       "      <td>0.0044</td>\n",
       "      <td>0.0040</td>\n",
       "      <td>0.0117</td>\n",
       "      <td>R</td>\n",
       "    </tr>\n",
       "    <tr>\n",
       "      <th>4</th>\n",
       "      <td>0.0762</td>\n",
       "      <td>0.0666</td>\n",
       "      <td>0.0481</td>\n",
       "      <td>0.0394</td>\n",
       "      <td>0.0590</td>\n",
       "      <td>0.0649</td>\n",
       "      <td>0.1209</td>\n",
       "      <td>0.2467</td>\n",
       "      <td>0.3564</td>\n",
       "      <td>0.4459</td>\n",
       "      <td>...</td>\n",
       "      <td>0.0031</td>\n",
       "      <td>0.0054</td>\n",
       "      <td>0.0105</td>\n",
       "      <td>0.0110</td>\n",
       "      <td>0.0015</td>\n",
       "      <td>0.0072</td>\n",
       "      <td>0.0048</td>\n",
       "      <td>0.0107</td>\n",
       "      <td>0.0094</td>\n",
       "      <td>R</td>\n",
       "    </tr>\n",
       "  </tbody>\n",
       "</table>\n",
       "<p>5 rows × 61 columns</p>\n",
       "</div>"
      ],
      "text/plain": [
       "       0       1       2       3       4       5       6       7       8   \\\n",
       "0  0.0200  0.0371  0.0428  0.0207  0.0954  0.0986  0.1539  0.1601  0.3109   \n",
       "1  0.0453  0.0523  0.0843  0.0689  0.1183  0.2583  0.2156  0.3481  0.3337   \n",
       "2  0.0262  0.0582  0.1099  0.1083  0.0974  0.2280  0.2431  0.3771  0.5598   \n",
       "3  0.0100  0.0171  0.0623  0.0205  0.0205  0.0368  0.1098  0.1276  0.0598   \n",
       "4  0.0762  0.0666  0.0481  0.0394  0.0590  0.0649  0.1209  0.2467  0.3564   \n",
       "\n",
       "       9   ...      51      52      53      54      55      56      57  \\\n",
       "0  0.2111  ...  0.0027  0.0065  0.0159  0.0072  0.0167  0.0180  0.0084   \n",
       "1  0.2872  ...  0.0084  0.0089  0.0048  0.0094  0.0191  0.0140  0.0049   \n",
       "2  0.6194  ...  0.0232  0.0166  0.0095  0.0180  0.0244  0.0316  0.0164   \n",
       "3  0.1264  ...  0.0121  0.0036  0.0150  0.0085  0.0073  0.0050  0.0044   \n",
       "4  0.4459  ...  0.0031  0.0054  0.0105  0.0110  0.0015  0.0072  0.0048   \n",
       "\n",
       "       58      59  60  \n",
       "0  0.0090  0.0032   R  \n",
       "1  0.0052  0.0044   R  \n",
       "2  0.0095  0.0078   R  \n",
       "3  0.0040  0.0117   R  \n",
       "4  0.0107  0.0094   R  \n",
       "\n",
       "[5 rows x 61 columns]"
      ]
     },
     "execution_count": 3,
     "metadata": {},
     "output_type": "execute_result"
    }
   ],
   "source": [
    "data = pd.read_csv(r'C:\\My Projects\\Deep Learning concepts\\sonar_dataset.csv',header=None)\n",
    "data.head()"
   ]
  },
  {
   "cell_type": "code",
   "execution_count": 4,
   "metadata": {},
   "outputs": [
    {
     "data": {
      "text/plain": [
       "0     0\n",
       "1     0\n",
       "2     0\n",
       "3     0\n",
       "4     0\n",
       "     ..\n",
       "56    0\n",
       "57    0\n",
       "58    0\n",
       "59    0\n",
       "60    0\n",
       "Length: 61, dtype: int64"
      ]
     },
     "execution_count": 4,
     "metadata": {},
     "output_type": "execute_result"
    }
   ],
   "source": [
    "data.isna().sum()"
   ]
  },
  {
   "cell_type": "code",
   "execution_count": 5,
   "metadata": {},
   "outputs": [
    {
     "data": {
      "text/plain": [
       "Int64Index([ 0,  1,  2,  3,  4,  5,  6,  7,  8,  9, 10, 11, 12, 13, 14, 15, 16,\n",
       "            17, 18, 19, 20, 21, 22, 23, 24, 25, 26, 27, 28, 29, 30, 31, 32, 33,\n",
       "            34, 35, 36, 37, 38, 39, 40, 41, 42, 43, 44, 45, 46, 47, 48, 49, 50,\n",
       "            51, 52, 53, 54, 55, 56, 57, 58, 59, 60],\n",
       "           dtype='int64')"
      ]
     },
     "execution_count": 5,
     "metadata": {},
     "output_type": "execute_result"
    }
   ],
   "source": [
    "data.columns"
   ]
  },
  {
   "cell_type": "code",
   "execution_count": 6,
   "metadata": {},
   "outputs": [
    {
     "data": {
      "text/plain": [
       "M    111\n",
       "R     97\n",
       "Name: 60, dtype: int64"
      ]
     },
     "execution_count": 6,
     "metadata": {},
     "output_type": "execute_result"
    }
   ],
   "source": [
    "data[60].value_counts()"
   ]
  },
  {
   "cell_type": "code",
   "execution_count": 7,
   "metadata": {},
   "outputs": [],
   "source": [
    "X = data.drop(60,axis=1)\n",
    "y = data[60]"
   ]
  },
  {
   "cell_type": "code",
   "execution_count": 8,
   "metadata": {},
   "outputs": [
    {
     "data": {
      "text/plain": [
       "0    R\n",
       "1    R\n",
       "2    R\n",
       "3    R\n",
       "4    R\n",
       "Name: 60, dtype: object"
      ]
     },
     "execution_count": 8,
     "metadata": {},
     "output_type": "execute_result"
    }
   ],
   "source": [
    "y.head()"
   ]
  },
  {
   "cell_type": "code",
   "execution_count": 12,
   "metadata": {},
   "outputs": [
    {
     "data": {
      "text/html": [
       "<div>\n",
       "<style scoped>\n",
       "    .dataframe tbody tr th:only-of-type {\n",
       "        vertical-align: middle;\n",
       "    }\n",
       "\n",
       "    .dataframe tbody tr th {\n",
       "        vertical-align: top;\n",
       "    }\n",
       "\n",
       "    .dataframe thead th {\n",
       "        text-align: right;\n",
       "    }\n",
       "</style>\n",
       "<table border=\"1\" class=\"dataframe\">\n",
       "  <thead>\n",
       "    <tr style=\"text-align: right;\">\n",
       "      <th></th>\n",
       "      <th>R</th>\n",
       "    </tr>\n",
       "  </thead>\n",
       "  <tbody>\n",
       "    <tr>\n",
       "      <th>200</th>\n",
       "      <td>0</td>\n",
       "    </tr>\n",
       "    <tr>\n",
       "      <th>1</th>\n",
       "      <td>1</td>\n",
       "    </tr>\n",
       "    <tr>\n",
       "      <th>37</th>\n",
       "      <td>1</td>\n",
       "    </tr>\n",
       "    <tr>\n",
       "      <th>93</th>\n",
       "      <td>1</td>\n",
       "    </tr>\n",
       "    <tr>\n",
       "      <th>71</th>\n",
       "      <td>1</td>\n",
       "    </tr>\n",
       "  </tbody>\n",
       "</table>\n",
       "</div>"
      ],
      "text/plain": [
       "     R\n",
       "200  0\n",
       "1    1\n",
       "37   1\n",
       "93   1\n",
       "71   1"
      ]
     },
     "execution_count": 12,
     "metadata": {},
     "output_type": "execute_result"
    }
   ],
   "source": [
    "y = pd.get_dummies(y, drop_first=True)\n",
    "y.sample(5)"
   ]
  },
  {
   "cell_type": "code",
   "execution_count": 13,
   "metadata": {},
   "outputs": [
    {
     "data": {
      "text/plain": [
       "R\n",
       "0    111\n",
       "1     97\n",
       "dtype: int64"
      ]
     },
     "execution_count": 13,
     "metadata": {},
     "output_type": "execute_result"
    }
   ],
   "source": [
    "y.value_counts()"
   ]
  },
  {
   "cell_type": "code",
   "execution_count": 14,
   "metadata": {},
   "outputs": [],
   "source": [
    "from sklearn.model_selection import train_test_split\n",
    "X_train, X_test, y_train, y_test = train_test_split(X, y, test_size=0.2, random_state=1)"
   ]
  },
  {
   "cell_type": "code",
   "execution_count": 16,
   "metadata": {},
   "outputs": [],
   "source": [
    "import tensorflow as tf\n",
    "from tensorflow import keras"
   ]
  },
  {
   "cell_type": "code",
   "execution_count": 19,
   "metadata": {},
   "outputs": [
    {
     "name": "stdout",
     "output_type": "stream",
     "text": [
      "Train on 166 samples\n",
      "Epoch 1/100\n",
      "166/166 [==============================] - 1s 5ms/sample - loss: 0.6861 - accuracy: 0.5120\n",
      "Epoch 2/100\n",
      "166/166 [==============================] - 0s 212us/sample - loss: 0.6704 - accuracy: 0.5482\n",
      "Epoch 3/100\n",
      "166/166 [==============================] - 0s 204us/sample - loss: 0.6403 - accuracy: 0.6988\n",
      "Epoch 4/100\n",
      "166/166 [==============================] - 0s 204us/sample - loss: 0.6100 - accuracy: 0.6988\n",
      "Epoch 5/100\n",
      "166/166 [==============================] - 0s 222us/sample - loss: 0.5786 - accuracy: 0.7229\n",
      "Epoch 6/100\n",
      "166/166 [==============================] - 0s 180us/sample - loss: 0.5468 - accuracy: 0.7892\n",
      "Epoch 7/100\n",
      "166/166 [==============================] - 0s 200us/sample - loss: 0.5152 - accuracy: 0.7771\n",
      "Epoch 8/100\n",
      "166/166 [==============================] - 0s 204us/sample - loss: 0.4865 - accuracy: 0.7410\n",
      "Epoch 9/100\n",
      "166/166 [==============================] - 0s 226us/sample - loss: 0.4732 - accuracy: 0.7892\n",
      "Epoch 10/100\n",
      "166/166 [==============================] - 0s 210us/sample - loss: 0.4407 - accuracy: 0.8072\n",
      "Epoch 11/100\n",
      "166/166 [==============================] - 0s 224us/sample - loss: 0.4093 - accuracy: 0.8072\n",
      "Epoch 12/100\n",
      "166/166 [==============================] - 0s 216us/sample - loss: 0.4017 - accuracy: 0.8012\n",
      "Epoch 13/100\n",
      "166/166 [==============================] - 0s 210us/sample - loss: 0.3792 - accuracy: 0.8253\n",
      "Epoch 14/100\n",
      "166/166 [==============================] - 0s 216us/sample - loss: 0.3754 - accuracy: 0.8253\n",
      "Epoch 15/100\n",
      "166/166 [==============================] - 0s 210us/sample - loss: 0.3582 - accuracy: 0.8133\n",
      "Epoch 16/100\n",
      "166/166 [==============================] - 0s 228us/sample - loss: 0.3302 - accuracy: 0.8976\n",
      "Epoch 17/100\n",
      "166/166 [==============================] - 0s 252us/sample - loss: 0.3111 - accuracy: 0.8735\n",
      "Epoch 18/100\n",
      "166/166 [==============================] - 0s 186us/sample - loss: 0.3081 - accuracy: 0.8795\n",
      "Epoch 19/100\n",
      "166/166 [==============================] - 0s 204us/sample - loss: 0.2871 - accuracy: 0.8916\n",
      "Epoch 20/100\n",
      "166/166 [==============================] - 0s 210us/sample - loss: 0.2802 - accuracy: 0.8916\n",
      "Epoch 21/100\n",
      "166/166 [==============================] - 0s 204us/sample - loss: 0.2681 - accuracy: 0.9096\n",
      "Epoch 22/100\n",
      "166/166 [==============================] - 0s 318us/sample - loss: 0.2400 - accuracy: 0.9096\n",
      "Epoch 23/100\n",
      "166/166 [==============================] - 0s 300us/sample - loss: 0.2317 - accuracy: 0.9277\n",
      "Epoch 24/100\n",
      "166/166 [==============================] - 0s 264us/sample - loss: 0.2202 - accuracy: 0.9217\n",
      "Epoch 25/100\n",
      "166/166 [==============================] - 0s 276us/sample - loss: 0.1933 - accuracy: 0.9277\n",
      "Epoch 26/100\n",
      "166/166 [==============================] - 0s 306us/sample - loss: 0.1854 - accuracy: 0.9458\n",
      "Epoch 27/100\n",
      "166/166 [==============================] - 0s 318us/sample - loss: 0.1788 - accuracy: 0.9458\n",
      "Epoch 28/100\n",
      "166/166 [==============================] - 0s 294us/sample - loss: 0.1718 - accuracy: 0.9277\n",
      "Epoch 29/100\n",
      "166/166 [==============================] - 0s 264us/sample - loss: 0.1628 - accuracy: 0.9458\n",
      "Epoch 30/100\n",
      "166/166 [==============================] - 0s 306us/sample - loss: 0.1633 - accuracy: 0.9699\n",
      "Epoch 31/100\n",
      "166/166 [==============================] - 0s 282us/sample - loss: 0.1335 - accuracy: 0.9699\n",
      "Epoch 32/100\n",
      "166/166 [==============================] - 0s 288us/sample - loss: 0.1262 - accuracy: 0.9458\n",
      "Epoch 33/100\n",
      "166/166 [==============================] - 0s 288us/sample - loss: 0.1244 - accuracy: 0.9639\n",
      "Epoch 34/100\n",
      "166/166 [==============================] - 0s 300us/sample - loss: 0.1052 - accuracy: 0.9819\n",
      "Epoch 35/100\n",
      "166/166 [==============================] - 0s 192us/sample - loss: 0.0937 - accuracy: 0.9819\n",
      "Epoch 36/100\n",
      "166/166 [==============================] - 0s 198us/sample - loss: 0.0923 - accuracy: 0.9819\n",
      "Epoch 37/100\n",
      "166/166 [==============================] - 0s 186us/sample - loss: 0.0797 - accuracy: 0.9819\n",
      "Epoch 38/100\n",
      "166/166 [==============================] - 0s 252us/sample - loss: 0.0673 - accuracy: 0.9940\n",
      "Epoch 39/100\n",
      "166/166 [==============================] - 0s 204us/sample - loss: 0.0764 - accuracy: 0.9880\n",
      "Epoch 40/100\n",
      "166/166 [==============================] - 0s 198us/sample - loss: 0.0832 - accuracy: 0.9819\n",
      "Epoch 41/100\n",
      "166/166 [==============================] - 0s 204us/sample - loss: 0.0647 - accuracy: 0.9880\n",
      "Epoch 42/100\n",
      "166/166 [==============================] - 0s 222us/sample - loss: 0.0510 - accuracy: 0.9940\n",
      "Epoch 43/100\n",
      "166/166 [==============================] - 0s 192us/sample - loss: 0.0483 - accuracy: 1.0000\n",
      "Epoch 44/100\n",
      "166/166 [==============================] - 0s 204us/sample - loss: 0.0535 - accuracy: 0.9940\n",
      "Epoch 45/100\n",
      "166/166 [==============================] - 0s 198us/sample - loss: 0.0453 - accuracy: 1.0000\n",
      "Epoch 46/100\n",
      "166/166 [==============================] - 0s 216us/sample - loss: 0.0575 - accuracy: 0.9940\n",
      "Epoch 47/100\n",
      "166/166 [==============================] - 0s 216us/sample - loss: 0.0685 - accuracy: 0.9759\n",
      "Epoch 48/100\n",
      "166/166 [==============================] - 0s 192us/sample - loss: 0.0678 - accuracy: 0.9880\n",
      "Epoch 49/100\n",
      "166/166 [==============================] - 0s 198us/sample - loss: 0.0351 - accuracy: 0.9940\n",
      "Epoch 50/100\n",
      "166/166 [==============================] - 0s 210us/sample - loss: 0.0280 - accuracy: 1.0000\n",
      "Epoch 51/100\n",
      "166/166 [==============================] - 0s 204us/sample - loss: 0.0223 - accuracy: 1.0000\n",
      "Epoch 52/100\n",
      "166/166 [==============================] - 0s 210us/sample - loss: 0.0190 - accuracy: 1.0000\n",
      "Epoch 53/100\n",
      "166/166 [==============================] - 0s 204us/sample - loss: 0.0205 - accuracy: 1.0000\n",
      "Epoch 54/100\n",
      "166/166 [==============================] - 0s 204us/sample - loss: 0.0171 - accuracy: 1.0000\n",
      "Epoch 55/100\n",
      "166/166 [==============================] - 0s 192us/sample - loss: 0.0172 - accuracy: 1.0000\n",
      "Epoch 56/100\n",
      "166/166 [==============================] - 0s 186us/sample - loss: 0.0156 - accuracy: 1.0000\n",
      "Epoch 57/100\n",
      "166/166 [==============================] - 0s 180us/sample - loss: 0.0140 - accuracy: 1.0000\n",
      "Epoch 58/100\n",
      "166/166 [==============================] - 0s 189us/sample - loss: 0.0205 - accuracy: 1.0000\n",
      "Epoch 59/100\n",
      "166/166 [==============================] - 0s 186us/sample - loss: 0.0340 - accuracy: 0.9880\n",
      "Epoch 60/100\n",
      "166/166 [==============================] - 0s 186us/sample - loss: 0.0313 - accuracy: 1.0000\n",
      "Epoch 61/100\n",
      "166/166 [==============================] - 0s 186us/sample - loss: 0.0157 - accuracy: 1.0000\n",
      "Epoch 62/100\n",
      "166/166 [==============================] - 0s 188us/sample - loss: 0.0138 - accuracy: 1.0000\n",
      "Epoch 63/100\n",
      "166/166 [==============================] - 0s 180us/sample - loss: 0.0101 - accuracy: 1.0000\n",
      "Epoch 64/100\n",
      "166/166 [==============================] - 0s 180us/sample - loss: 0.0087 - accuracy: 1.0000\n",
      "Epoch 65/100\n",
      "166/166 [==============================] - 0s 192us/sample - loss: 0.0082 - accuracy: 1.0000\n",
      "Epoch 66/100\n",
      "166/166 [==============================] - 0s 192us/sample - loss: 0.0069 - accuracy: 1.0000\n",
      "Epoch 67/100\n",
      "166/166 [==============================] - 0s 180us/sample - loss: 0.0068 - accuracy: 1.0000\n",
      "Epoch 68/100\n",
      "166/166 [==============================] - 0s 228us/sample - loss: 0.0061 - accuracy: 1.0000\n",
      "Epoch 69/100\n",
      "166/166 [==============================] - 0s 202us/sample - loss: 0.0060 - accuracy: 1.0000\n",
      "Epoch 70/100\n",
      "166/166 [==============================] - 0s 210us/sample - loss: 0.0059 - accuracy: 1.0000\n",
      "Epoch 71/100\n",
      "166/166 [==============================] - 0s 198us/sample - loss: 0.0063 - accuracy: 1.0000\n",
      "Epoch 72/100\n",
      "166/166 [==============================] - 0s 180us/sample - loss: 0.0053 - accuracy: 1.0000\n",
      "Epoch 73/100\n",
      "166/166 [==============================] - 0s 198us/sample - loss: 0.0052 - accuracy: 1.0000\n",
      "Epoch 74/100\n",
      "166/166 [==============================] - 0s 187us/sample - loss: 0.0046 - accuracy: 1.0000\n",
      "Epoch 75/100\n",
      "166/166 [==============================] - 0s 199us/sample - loss: 0.0049 - accuracy: 1.0000\n",
      "Epoch 76/100\n",
      "166/166 [==============================] - 0s 198us/sample - loss: 0.0047 - accuracy: 1.0000\n",
      "Epoch 77/100\n",
      "166/166 [==============================] - 0s 198us/sample - loss: 0.0044 - accuracy: 1.0000\n",
      "Epoch 78/100\n",
      "166/166 [==============================] - 0s 204us/sample - loss: 0.0040 - accuracy: 1.0000\n",
      "Epoch 79/100\n",
      "166/166 [==============================] - 0s 192us/sample - loss: 0.0037 - accuracy: 1.0000\n",
      "Epoch 80/100\n",
      "166/166 [==============================] - 0s 198us/sample - loss: 0.0034 - accuracy: 1.0000\n",
      "Epoch 81/100\n",
      "166/166 [==============================] - 0s 174us/sample - loss: 0.0034 - accuracy: 1.0000\n",
      "Epoch 82/100\n",
      "166/166 [==============================] - 0s 186us/sample - loss: 0.0033 - accuracy: 1.0000\n",
      "Epoch 83/100\n",
      "166/166 [==============================] - 0s 174us/sample - loss: 0.0031 - accuracy: 1.0000\n",
      "Epoch 84/100\n",
      "166/166 [==============================] - 0s 186us/sample - loss: 0.0030 - accuracy: 1.0000\n",
      "Epoch 85/100\n",
      "166/166 [==============================] - 0s 188us/sample - loss: 0.0028 - accuracy: 1.0000\n",
      "Epoch 86/100\n",
      "166/166 [==============================] - 0s 180us/sample - loss: 0.0029 - accuracy: 1.0000\n",
      "Epoch 87/100\n",
      "166/166 [==============================] - 0s 174us/sample - loss: 0.0026 - accuracy: 1.0000\n",
      "Epoch 88/100\n",
      "166/166 [==============================] - 0s 180us/sample - loss: 0.0026 - accuracy: 1.0000\n",
      "Epoch 89/100\n",
      "166/166 [==============================] - 0s 174us/sample - loss: 0.0026 - accuracy: 1.0000\n",
      "Epoch 90/100\n",
      "166/166 [==============================] - 0s 174us/sample - loss: 0.0024 - accuracy: 1.0000\n",
      "Epoch 91/100\n",
      "166/166 [==============================] - 0s 192us/sample - loss: 0.0023 - accuracy: 1.0000\n",
      "Epoch 92/100\n",
      "166/166 [==============================] - 0s 186us/sample - loss: 0.0022 - accuracy: 1.0000\n",
      "Epoch 93/100\n",
      "166/166 [==============================] - 0s 192us/sample - loss: 0.0022 - accuracy: 1.0000\n",
      "Epoch 94/100\n",
      "166/166 [==============================] - 0s 192us/sample - loss: 0.0021 - accuracy: 1.0000\n",
      "Epoch 95/100\n",
      "166/166 [==============================] - 0s 178us/sample - loss: 0.0020 - accuracy: 1.0000\n",
      "Epoch 96/100\n",
      "166/166 [==============================] - 0s 180us/sample - loss: 0.0019 - accuracy: 1.0000\n",
      "Epoch 97/100\n",
      "166/166 [==============================] - 0s 174us/sample - loss: 0.0022 - accuracy: 1.0000\n",
      "Epoch 98/100\n",
      "166/166 [==============================] - 0s 177us/sample - loss: 0.0018 - accuracy: 1.0000\n",
      "Epoch 99/100\n",
      "166/166 [==============================] - 0s 186us/sample - loss: 0.0017 - accuracy: 1.0000\n",
      "Epoch 100/100\n",
      "166/166 [==============================] - 0s 210us/sample - loss: 0.0017 - accuracy: 1.0000\n"
     ]
    },
    {
     "data": {
      "text/plain": [
       "<tensorflow.python.keras.callbacks.History at 0x252c9e86548>"
      ]
     },
     "execution_count": 19,
     "metadata": {},
     "output_type": "execute_result"
    }
   ],
   "source": [
    "model = keras.Sequential([\n",
    "    keras.layers.Dense(60,input_dim=60,activation='relu'),\n",
    "    keras.layers.Dense(40,activation='relu'),\n",
    "    keras.layers.Dense(20,activation='relu'),\n",
    "    keras.layers.Dense(1,activation='sigmoid')\n",
    "])\n",
    "\n",
    "model.compile(loss='binary_crossentropy',optimizer='adam',metrics=['accuracy'])\n",
    "\n",
    "model.fit(X_train,y_train,epochs=100,batch_size=10)"
   ]
  },
  {
   "cell_type": "code",
   "execution_count": 20,
   "metadata": {},
   "outputs": [],
   "source": [
    "# above training accuracy implies overfitting"
   ]
  },
  {
   "cell_type": "code",
   "execution_count": 21,
   "metadata": {},
   "outputs": [
    {
     "name": "stdout",
     "output_type": "stream",
     "text": [
      "42/42 [==============================] - 0s 3ms/sample - loss: 1.2749 - accuracy: 0.7143\n"
     ]
    },
    {
     "data": {
      "text/plain": [
       "[1.2749162912368774, 0.71428573]"
      ]
     },
     "execution_count": 21,
     "metadata": {},
     "output_type": "execute_result"
    }
   ],
   "source": [
    "model.evaluate(X_test,y_test)"
   ]
  },
  {
   "cell_type": "code",
   "execution_count": 22,
   "metadata": {},
   "outputs": [],
   "source": [
    "y_pred = model.predict(X_test).reshape(-1)\n",
    "y_pred = np.round(y_pred)"
   ]
  },
  {
   "cell_type": "code",
   "execution_count": 23,
   "metadata": {},
   "outputs": [
    {
     "name": "stdout",
     "output_type": "stream",
     "text": [
      "              precision    recall  f1-score   support\n",
      "\n",
      "           0       0.67      0.80      0.73        20\n",
      "           1       0.78      0.64      0.70        22\n",
      "\n",
      "    accuracy                           0.71        42\n",
      "   macro avg       0.72      0.72      0.71        42\n",
      "weighted avg       0.72      0.71      0.71        42\n",
      "\n"
     ]
    }
   ],
   "source": [
    "from sklearn.metrics import confusion_matrix , classification_report\n",
    "\n",
    "print(classification_report(y_test, y_pred))"
   ]
  },
  {
   "cell_type": "code",
   "execution_count": 24,
   "metadata": {},
   "outputs": [],
   "source": [
    "#adding dropout layers between hidden layers"
   ]
  },
  {
   "cell_type": "code",
   "execution_count": 26,
   "metadata": {},
   "outputs": [
    {
     "name": "stdout",
     "output_type": "stream",
     "text": [
      "Train on 166 samples\n",
      "Epoch 1/100\n",
      "166/166 [==============================] - 1s 3ms/sample - loss: 0.7018 - accuracy: 0.5120\n",
      "Epoch 2/100\n",
      "166/166 [==============================] - 0s 210us/sample - loss: 0.7291 - accuracy: 0.5422\n",
      "Epoch 3/100\n",
      "166/166 [==============================] - 0s 222us/sample - loss: 0.7138 - accuracy: 0.4819\n",
      "Epoch 4/100\n",
      "166/166 [==============================] - 0s 216us/sample - loss: 0.6838 - accuracy: 0.5542\n",
      "Epoch 5/100\n",
      "166/166 [==============================] - 0s 228us/sample - loss: 0.6967 - accuracy: 0.5000\n",
      "Epoch 6/100\n",
      "166/166 [==============================] - 0s 216us/sample - loss: 0.6886 - accuracy: 0.5361\n",
      "Epoch 7/100\n",
      "166/166 [==============================] - 0s 210us/sample - loss: 0.6745 - accuracy: 0.5783\n",
      "Epoch 8/100\n",
      "166/166 [==============================] - 0s 222us/sample - loss: 0.6799 - accuracy: 0.5602\n",
      "Epoch 9/100\n",
      "166/166 [==============================] - 0s 228us/sample - loss: 0.6847 - accuracy: 0.5783\n",
      "Epoch 10/100\n",
      "166/166 [==============================] - 0s 222us/sample - loss: 0.6708 - accuracy: 0.5542\n",
      "Epoch 11/100\n",
      "166/166 [==============================] - 0s 228us/sample - loss: 0.6774 - accuracy: 0.5422\n",
      "Epoch 12/100\n",
      "166/166 [==============================] - 0s 258us/sample - loss: 0.6822 - accuracy: 0.5602\n",
      "Epoch 13/100\n",
      "166/166 [==============================] - 0s 234us/sample - loss: 0.6673 - accuracy: 0.6145\n",
      "Epoch 14/100\n",
      "166/166 [==============================] - 0s 222us/sample - loss: 0.6830 - accuracy: 0.4880\n",
      "Epoch 15/100\n",
      "166/166 [==============================] - 0s 222us/sample - loss: 0.6685 - accuracy: 0.5843\n",
      "Epoch 16/100\n",
      "166/166 [==============================] - 0s 210us/sample - loss: 0.6757 - accuracy: 0.5301\n",
      "Epoch 17/100\n",
      "166/166 [==============================] - 0s 222us/sample - loss: 0.6702 - accuracy: 0.6024\n",
      "Epoch 18/100\n",
      "166/166 [==============================] - 0s 240us/sample - loss: 0.6580 - accuracy: 0.6084\n",
      "Epoch 19/100\n",
      "166/166 [==============================] - 0s 222us/sample - loss: 0.6505 - accuracy: 0.6386\n",
      "Epoch 20/100\n",
      "166/166 [==============================] - 0s 216us/sample - loss: 0.6469 - accuracy: 0.5904\n",
      "Epoch 21/100\n",
      "166/166 [==============================] - 0s 234us/sample - loss: 0.6511 - accuracy: 0.5843\n",
      "Epoch 22/100\n",
      "166/166 [==============================] - 0s 234us/sample - loss: 0.6307 - accuracy: 0.6084\n",
      "Epoch 23/100\n",
      "166/166 [==============================] - 0s 210us/sample - loss: 0.6426 - accuracy: 0.6386\n",
      "Epoch 24/100\n",
      "166/166 [==============================] - 0s 234us/sample - loss: 0.6356 - accuracy: 0.6265\n",
      "Epoch 25/100\n",
      "166/166 [==============================] - 0s 228us/sample - loss: 0.6149 - accuracy: 0.6084\n",
      "Epoch 26/100\n",
      "166/166 [==============================] - 0s 217us/sample - loss: 0.6282 - accuracy: 0.6205\n",
      "Epoch 27/100\n",
      "166/166 [==============================] - 0s 222us/sample - loss: 0.6555 - accuracy: 0.5723\n",
      "Epoch 28/100\n",
      "166/166 [==============================] - 0s 240us/sample - loss: 0.5787 - accuracy: 0.6687\n",
      "Epoch 29/100\n",
      "166/166 [==============================] - 0s 222us/sample - loss: 0.6052 - accuracy: 0.6747\n",
      "Epoch 30/100\n",
      "166/166 [==============================] - 0s 228us/sample - loss: 0.5697 - accuracy: 0.7229\n",
      "Epoch 31/100\n",
      "166/166 [==============================] - 0s 228us/sample - loss: 0.5742 - accuracy: 0.7169\n",
      "Epoch 32/100\n",
      "166/166 [==============================] - 0s 222us/sample - loss: 0.5537 - accuracy: 0.6928\n",
      "Epoch 33/100\n",
      "166/166 [==============================] - 0s 234us/sample - loss: 0.5822 - accuracy: 0.6807\n",
      "Epoch 34/100\n",
      "166/166 [==============================] - 0s 228us/sample - loss: 0.5699 - accuracy: 0.6928\n",
      "Epoch 35/100\n",
      "166/166 [==============================] - 0s 216us/sample - loss: 0.5720 - accuracy: 0.6627\n",
      "Epoch 36/100\n",
      "166/166 [==============================] - 0s 222us/sample - loss: 0.5563 - accuracy: 0.8072\n",
      "Epoch 37/100\n",
      "166/166 [==============================] - 0s 228us/sample - loss: 0.5204 - accuracy: 0.7470\n",
      "Epoch 38/100\n",
      "166/166 [==============================] - 0s 210us/sample - loss: 0.5259 - accuracy: 0.7530\n",
      "Epoch 39/100\n",
      "166/166 [==============================] - 0s 222us/sample - loss: 0.5124 - accuracy: 0.7831\n",
      "Epoch 40/100\n",
      "166/166 [==============================] - 0s 216us/sample - loss: 0.5163 - accuracy: 0.7590\n",
      "Epoch 41/100\n",
      "166/166 [==============================] - 0s 222us/sample - loss: 0.5235 - accuracy: 0.7530\n",
      "Epoch 42/100\n",
      "166/166 [==============================] - 0s 240us/sample - loss: 0.4550 - accuracy: 0.7892\n",
      "Epoch 43/100\n",
      "166/166 [==============================] - 0s 216us/sample - loss: 0.4905 - accuracy: 0.7651\n",
      "Epoch 44/100\n",
      "166/166 [==============================] - 0s 216us/sample - loss: 0.4649 - accuracy: 0.8133\n",
      "Epoch 45/100\n",
      "166/166 [==============================] - 0s 210us/sample - loss: 0.4706 - accuracy: 0.7410\n",
      "Epoch 46/100\n",
      "166/166 [==============================] - 0s 210us/sample - loss: 0.4582 - accuracy: 0.8012\n",
      "Epoch 47/100\n",
      "166/166 [==============================] - 0s 210us/sample - loss: 0.4585 - accuracy: 0.8193\n",
      "Epoch 48/100\n",
      "166/166 [==============================] - 0s 216us/sample - loss: 0.5179 - accuracy: 0.7651\n",
      "Epoch 49/100\n",
      "166/166 [==============================] - 0s 210us/sample - loss: 0.4429 - accuracy: 0.8193\n",
      "Epoch 50/100\n",
      "166/166 [==============================] - 0s 204us/sample - loss: 0.4340 - accuracy: 0.8072\n",
      "Epoch 51/100\n",
      "166/166 [==============================] - 0s 210us/sample - loss: 0.4258 - accuracy: 0.7892\n",
      "Epoch 52/100\n",
      "166/166 [==============================] - 0s 206us/sample - loss: 0.4993 - accuracy: 0.7892\n",
      "Epoch 53/100\n",
      "166/166 [==============================] - 0s 210us/sample - loss: 0.4490 - accuracy: 0.8133\n",
      "Epoch 54/100\n",
      "166/166 [==============================] - 0s 198us/sample - loss: 0.4291 - accuracy: 0.8072\n",
      "Epoch 55/100\n",
      "166/166 [==============================] - 0s 186us/sample - loss: 0.4136 - accuracy: 0.8434\n",
      "Epoch 56/100\n",
      "166/166 [==============================] - 0s 186us/sample - loss: 0.3933 - accuracy: 0.8253\n",
      "Epoch 57/100\n",
      "166/166 [==============================] - 0s 174us/sample - loss: 0.3289 - accuracy: 0.8735\n",
      "Epoch 58/100\n",
      "166/166 [==============================] - 0s 198us/sample - loss: 0.4200 - accuracy: 0.8133\n",
      "Epoch 59/100\n",
      "166/166 [==============================] - 0s 198us/sample - loss: 0.4099 - accuracy: 0.8313\n",
      "Epoch 60/100\n",
      "166/166 [==============================] - 0s 198us/sample - loss: 0.3950 - accuracy: 0.8133\n",
      "Epoch 61/100\n",
      "166/166 [==============================] - 0s 204us/sample - loss: 0.3237 - accuracy: 0.8614\n",
      "Epoch 62/100\n",
      "166/166 [==============================] - 0s 180us/sample - loss: 0.3719 - accuracy: 0.8313\n",
      "Epoch 63/100\n",
      "166/166 [==============================] - 0s 198us/sample - loss: 0.3896 - accuracy: 0.8554\n",
      "Epoch 64/100\n",
      "166/166 [==============================] - 0s 204us/sample - loss: 0.3571 - accuracy: 0.8614\n",
      "Epoch 65/100\n",
      "166/166 [==============================] - 0s 198us/sample - loss: 0.3278 - accuracy: 0.8735\n",
      "Epoch 66/100\n",
      "166/166 [==============================] - 0s 192us/sample - loss: 0.3429 - accuracy: 0.8434\n",
      "Epoch 67/100\n",
      "166/166 [==============================] - 0s 192us/sample - loss: 0.3482 - accuracy: 0.8614\n",
      "Epoch 68/100\n",
      "166/166 [==============================] - 0s 192us/sample - loss: 0.3753 - accuracy: 0.8554\n",
      "Epoch 69/100\n",
      "166/166 [==============================] - 0s 192us/sample - loss: 0.3155 - accuracy: 0.8554\n",
      "Epoch 70/100\n",
      "166/166 [==============================] - 0s 210us/sample - loss: 0.3515 - accuracy: 0.8434\n",
      "Epoch 71/100\n",
      "166/166 [==============================] - 0s 216us/sample - loss: 0.3188 - accuracy: 0.8855\n",
      "Epoch 72/100\n",
      "166/166 [==============================] - 0s 210us/sample - loss: 0.3072 - accuracy: 0.8614\n",
      "Epoch 73/100\n",
      "166/166 [==============================] - 0s 210us/sample - loss: 0.3313 - accuracy: 0.8494\n",
      "Epoch 74/100\n",
      "166/166 [==============================] - 0s 204us/sample - loss: 0.2472 - accuracy: 0.9217\n",
      "Epoch 75/100\n",
      "166/166 [==============================] - 0s 230us/sample - loss: 0.3004 - accuracy: 0.8916\n",
      "Epoch 76/100\n",
      "166/166 [==============================] - 0s 222us/sample - loss: 0.3115 - accuracy: 0.9036\n",
      "Epoch 77/100\n",
      "166/166 [==============================] - 0s 234us/sample - loss: 0.3348 - accuracy: 0.8795\n",
      "Epoch 78/100\n",
      "166/166 [==============================] - 0s 210us/sample - loss: 0.2991 - accuracy: 0.8494\n",
      "Epoch 79/100\n",
      "166/166 [==============================] - 0s 240us/sample - loss: 0.3343 - accuracy: 0.8614\n",
      "Epoch 80/100\n",
      "166/166 [==============================] - 0s 198us/sample - loss: 0.2304 - accuracy: 0.9096\n",
      "Epoch 81/100\n",
      "166/166 [==============================] - 0s 192us/sample - loss: 0.2894 - accuracy: 0.8735\n",
      "Epoch 82/100\n",
      "166/166 [==============================] - 0s 192us/sample - loss: 0.3085 - accuracy: 0.8855\n",
      "Epoch 83/100\n",
      "166/166 [==============================] - 0s 174us/sample - loss: 0.2446 - accuracy: 0.9096\n",
      "Epoch 84/100\n",
      "166/166 [==============================] - 0s 192us/sample - loss: 0.2599 - accuracy: 0.8855\n",
      "Epoch 85/100\n",
      "166/166 [==============================] - 0s 204us/sample - loss: 0.2595 - accuracy: 0.8855\n",
      "Epoch 86/100\n",
      "166/166 [==============================] - 0s 210us/sample - loss: 0.2333 - accuracy: 0.9217\n",
      "Epoch 87/100\n",
      "166/166 [==============================] - 0s 180us/sample - loss: 0.2972 - accuracy: 0.8916\n",
      "Epoch 88/100\n",
      "166/166 [==============================] - 0s 198us/sample - loss: 0.2070 - accuracy: 0.9458\n",
      "Epoch 89/100\n",
      "166/166 [==============================] - 0s 180us/sample - loss: 0.2116 - accuracy: 0.9096\n",
      "Epoch 90/100\n",
      "166/166 [==============================] - 0s 193us/sample - loss: 0.3236 - accuracy: 0.8916\n",
      "Epoch 91/100\n",
      "166/166 [==============================] - 0s 182us/sample - loss: 0.2858 - accuracy: 0.8916\n",
      "Epoch 92/100\n",
      "166/166 [==============================] - 0s 174us/sample - loss: 0.2839 - accuracy: 0.8976\n",
      "Epoch 93/100\n",
      "166/166 [==============================] - 0s 198us/sample - loss: 0.2828 - accuracy: 0.8795\n",
      "Epoch 94/100\n",
      "166/166 [==============================] - 0s 204us/sample - loss: 0.2432 - accuracy: 0.8795\n",
      "Epoch 95/100\n",
      "166/166 [==============================] - 0s 217us/sample - loss: 0.2297 - accuracy: 0.9096\n",
      "Epoch 96/100\n",
      "166/166 [==============================] - 0s 186us/sample - loss: 0.2953 - accuracy: 0.8735\n",
      "Epoch 97/100\n",
      "166/166 [==============================] - 0s 192us/sample - loss: 0.2555 - accuracy: 0.9036\n",
      "Epoch 98/100\n",
      "166/166 [==============================] - 0s 229us/sample - loss: 0.1866 - accuracy: 0.9398\n",
      "Epoch 99/100\n",
      "166/166 [==============================] - 0s 198us/sample - loss: 0.2169 - accuracy: 0.9036\n",
      "Epoch 100/100\n",
      "166/166 [==============================] - 0s 186us/sample - loss: 0.2790 - accuracy: 0.8916\n"
     ]
    },
    {
     "data": {
      "text/plain": [
       "<tensorflow.python.keras.callbacks.History at 0x252cc4de588>"
      ]
     },
     "execution_count": 26,
     "metadata": {},
     "output_type": "execute_result"
    }
   ],
   "source": [
    "modeldrop = keras.Sequential([\n",
    "    keras.layers.Dense(60,input_dim=60,activation='relu'),\n",
    "      keras.layers.Dropout(0.5),\n",
    "    keras.layers.Dense(40,activation='relu'),\n",
    "      keras.layers.Dropout(0.5),\n",
    "    keras.layers.Dense(20,activation='relu'),\n",
    "      keras.layers.Dropout(0.5),\n",
    "    keras.layers.Dense(1,activation='sigmoid')\n",
    "])\n",
    "\n",
    "modeldrop.compile(loss='binary_crossentropy',optimizer='adam',metrics=['accuracy'])\n",
    "\n",
    "modeldrop.fit(X_train,y_train,epochs=100,batch_size=10)"
   ]
  },
  {
   "cell_type": "code",
   "execution_count": 27,
   "metadata": {},
   "outputs": [
    {
     "name": "stdout",
     "output_type": "stream",
     "text": [
      "42/42 [==============================] - 0s 3ms/sample - loss: 0.5234 - accuracy: 0.7619\n"
     ]
    },
    {
     "data": {
      "text/plain": [
       "[0.5234258877379554, 0.7619048]"
      ]
     },
     "execution_count": 27,
     "metadata": {},
     "output_type": "execute_result"
    }
   ],
   "source": [
    "modeldrop.evaluate(X_test,y_test)"
   ]
  },
  {
   "cell_type": "code",
   "execution_count": 28,
   "metadata": {},
   "outputs": [],
   "source": [
    "y_pred = modeldrop.predict(X_test).reshape(-1)\n",
    "y_pred = np.round(y_pred)"
   ]
  },
  {
   "cell_type": "code",
   "execution_count": 29,
   "metadata": {},
   "outputs": [
    {
     "name": "stdout",
     "output_type": "stream",
     "text": [
      "              precision    recall  f1-score   support\n",
      "\n",
      "           0       0.73      0.80      0.76        20\n",
      "           1       0.80      0.73      0.76        22\n",
      "\n",
      "    accuracy                           0.76        42\n",
      "   macro avg       0.76      0.76      0.76        42\n",
      "weighted avg       0.77      0.76      0.76        42\n",
      "\n"
     ]
    }
   ],
   "source": [
    "from sklearn.metrics import confusion_matrix , classification_report\n",
    "\n",
    "print(classification_report(y_test, y_pred))"
   ]
  },
  {
   "cell_type": "code",
   "execution_count": null,
   "metadata": {},
   "outputs": [],
   "source": []
  }
 ],
 "metadata": {
  "kernelspec": {
   "display_name": "Python 3",
   "language": "python",
   "name": "python3"
  },
  "language_info": {
   "codemirror_mode": {
    "name": "ipython",
    "version": 3
   },
   "file_extension": ".py",
   "mimetype": "text/x-python",
   "name": "python",
   "nbconvert_exporter": "python",
   "pygments_lexer": "ipython3",
   "version": "3.7.4"
  }
 },
 "nbformat": 4,
 "nbformat_minor": 2
}
